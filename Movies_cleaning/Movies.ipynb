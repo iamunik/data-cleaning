{
 "cells": [
  {
   "cell_type": "markdown",
   "id": "0dfce127",
   "metadata": {},
   "source": [
    "# Data Cleaning a movies dataset\n",
    "<hr>\n",
    "This dataset was gotten from Kaggle, I performed cleaning tasks on the dataset using Pandas, numpy and Regex patterns to make the cleaning process clean, efficient and fast."
   ]
  },
  {
   "cell_type": "code",
   "execution_count": 1,
   "id": "d288c1e0",
   "metadata": {},
   "outputs": [
    {
     "data": {
      "text/html": [
       "<div>\n",
       "<style scoped>\n",
       "    .dataframe tbody tr th:only-of-type {\n",
       "        vertical-align: middle;\n",
       "    }\n",
       "\n",
       "    .dataframe tbody tr th {\n",
       "        vertical-align: top;\n",
       "    }\n",
       "\n",
       "    .dataframe thead th {\n",
       "        text-align: right;\n",
       "    }\n",
       "</style>\n",
       "<table border=\"1\" class=\"dataframe\">\n",
       "  <thead>\n",
       "    <tr style=\"text-align: right;\">\n",
       "      <th></th>\n",
       "      <th>MOVIES</th>\n",
       "      <th>YEAR</th>\n",
       "      <th>GENRE</th>\n",
       "      <th>RATING</th>\n",
       "      <th>ONE-LINE</th>\n",
       "      <th>STARS</th>\n",
       "      <th>VOTES</th>\n",
       "      <th>RunTime</th>\n",
       "      <th>Gross</th>\n",
       "    </tr>\n",
       "  </thead>\n",
       "  <tbody>\n",
       "    <tr>\n",
       "      <th>0</th>\n",
       "      <td>Blood Red Sky</td>\n",
       "      <td>(2021)</td>\n",
       "      <td>\\nAction, Horror, Thriller</td>\n",
       "      <td>6.1</td>\n",
       "      <td>\\nA woman with a mysterious illness is forced ...</td>\n",
       "      <td>\\n    Director:\\nPeter Thorwarth\\n| \\n    Star...</td>\n",
       "      <td>21,062</td>\n",
       "      <td>121.0</td>\n",
       "      <td>NaN</td>\n",
       "    </tr>\n",
       "    <tr>\n",
       "      <th>1</th>\n",
       "      <td>Masters of the Universe: Revelation</td>\n",
       "      <td>(2021– )</td>\n",
       "      <td>\\nAnimation, Action, Adventure</td>\n",
       "      <td>5.0</td>\n",
       "      <td>\\nThe war for Eternia begins again in what may...</td>\n",
       "      <td>\\n            \\n    Stars:\\nChris Wood, \\nSara...</td>\n",
       "      <td>17,870</td>\n",
       "      <td>25.0</td>\n",
       "      <td>NaN</td>\n",
       "    </tr>\n",
       "    <tr>\n",
       "      <th>2</th>\n",
       "      <td>The Walking Dead</td>\n",
       "      <td>(2010–2022)</td>\n",
       "      <td>\\nDrama, Horror, Thriller</td>\n",
       "      <td>8.2</td>\n",
       "      <td>\\nSheriff Deputy Rick Grimes wakes up from a c...</td>\n",
       "      <td>\\n            \\n    Stars:\\nAndrew Lincoln, \\n...</td>\n",
       "      <td>885,805</td>\n",
       "      <td>44.0</td>\n",
       "      <td>NaN</td>\n",
       "    </tr>\n",
       "    <tr>\n",
       "      <th>3</th>\n",
       "      <td>Rick and Morty</td>\n",
       "      <td>(2013– )</td>\n",
       "      <td>\\nAnimation, Adventure, Comedy</td>\n",
       "      <td>9.2</td>\n",
       "      <td>\\nAn animated series that follows the exploits...</td>\n",
       "      <td>\\n            \\n    Stars:\\nJustin Roiland, \\n...</td>\n",
       "      <td>414,849</td>\n",
       "      <td>23.0</td>\n",
       "      <td>NaN</td>\n",
       "    </tr>\n",
       "    <tr>\n",
       "      <th>4</th>\n",
       "      <td>Army of Thieves</td>\n",
       "      <td>(2021)</td>\n",
       "      <td>\\nAction, Crime, Horror</td>\n",
       "      <td>NaN</td>\n",
       "      <td>\\nA prequel, set before the events of Army of ...</td>\n",
       "      <td>\\n    Director:\\nMatthias Schweighöfer\\n| \\n  ...</td>\n",
       "      <td>NaN</td>\n",
       "      <td>NaN</td>\n",
       "      <td>NaN</td>\n",
       "    </tr>\n",
       "  </tbody>\n",
       "</table>\n",
       "</div>"
      ],
      "text/plain": [
       "                                MOVIES         YEAR  \\\n",
       "0                        Blood Red Sky       (2021)   \n",
       "1  Masters of the Universe: Revelation     (2021– )   \n",
       "2                     The Walking Dead  (2010–2022)   \n",
       "3                       Rick and Morty     (2013– )   \n",
       "4                      Army of Thieves       (2021)   \n",
       "\n",
       "                                        GENRE  RATING  \\\n",
       "0      \\nAction, Horror, Thriller                 6.1   \n",
       "1  \\nAnimation, Action, Adventure                 5.0   \n",
       "2       \\nDrama, Horror, Thriller                 8.2   \n",
       "3  \\nAnimation, Adventure, Comedy                 9.2   \n",
       "4         \\nAction, Crime, Horror                 NaN   \n",
       "\n",
       "                                            ONE-LINE  \\\n",
       "0  \\nA woman with a mysterious illness is forced ...   \n",
       "1  \\nThe war for Eternia begins again in what may...   \n",
       "2  \\nSheriff Deputy Rick Grimes wakes up from a c...   \n",
       "3  \\nAn animated series that follows the exploits...   \n",
       "4  \\nA prequel, set before the events of Army of ...   \n",
       "\n",
       "                                               STARS    VOTES  RunTime Gross  \n",
       "0  \\n    Director:\\nPeter Thorwarth\\n| \\n    Star...   21,062    121.0   NaN  \n",
       "1  \\n            \\n    Stars:\\nChris Wood, \\nSara...   17,870     25.0   NaN  \n",
       "2  \\n            \\n    Stars:\\nAndrew Lincoln, \\n...  885,805     44.0   NaN  \n",
       "3  \\n            \\n    Stars:\\nJustin Roiland, \\n...  414,849     23.0   NaN  \n",
       "4  \\n    Director:\\nMatthias Schweighöfer\\n| \\n  ...      NaN      NaN   NaN  "
      ]
     },
     "execution_count": 1,
     "metadata": {},
     "output_type": "execute_result"
    }
   ],
   "source": [
    "# Importing necessary libraries\n",
    "import pandas as pd\n",
    "import numpy as np\n",
    "\n",
    "# Reading the data into the dataframe\n",
    "data = pd.read_csv(\"dataset_used/movies.csv\")\n",
    "\n",
    "# Viewing the top 5 rows of data\n",
    "data.head()"
   ]
  },
  {
   "cell_type": "code",
   "execution_count": 2,
   "id": "36e7dd48",
   "metadata": {},
   "outputs": [
    {
     "data": {
      "text/plain": [
       "movies         0\n",
       "year         644\n",
       "genre         80\n",
       "rating      1820\n",
       "one_line       0\n",
       "stars          0\n",
       "votes       1820\n",
       "runtime     2958\n",
       "gross       9539\n",
       "dtype: int64"
      ]
     },
     "execution_count": 2,
     "metadata": {},
     "output_type": "execute_result"
    }
   ],
   "source": [
    "# Rename the column names to be lower case and replacing '-' with '_' for uniformity.\n",
    "data.columns = [column.replace(\"-\", \"_\").lower() for column in data.columns]\n",
    "\n",
    "# Checking for the missing values\n",
    "data.isnull().sum()"
   ]
  },
  {
   "cell_type": "code",
   "execution_count": 3,
   "id": "91ae16c4",
   "metadata": {},
   "outputs": [
    {
     "name": "stdout",
     "output_type": "stream",
     "text": [
      "<class 'pandas.core.frame.DataFrame'>\n",
      "RangeIndex: 9999 entries, 0 to 9998\n",
      "Data columns (total 9 columns):\n",
      " #   Column    Non-Null Count  Dtype  \n",
      "---  ------    --------------  -----  \n",
      " 0   movies    9999 non-null   object \n",
      " 1   year      9355 non-null   object \n",
      " 2   genre     9919 non-null   object \n",
      " 3   rating    8179 non-null   float64\n",
      " 4   one_line  9999 non-null   object \n",
      " 5   stars     9999 non-null   object \n",
      " 6   votes     8179 non-null   object \n",
      " 7   runtime   7041 non-null   float64\n",
      " 8   gross     460 non-null    object \n",
      "dtypes: float64(2), object(7)\n",
      "memory usage: 703.2+ KB\n"
     ]
    }
   ],
   "source": [
    "# Brief summary on our data\n",
    "data.info()"
   ]
  },
  {
   "cell_type": "code",
   "execution_count": 4,
   "id": "4f425aea",
   "metadata": {},
   "outputs": [
    {
     "name": "stdout",
     "output_type": "stream",
     "text": [
      "\n",
      "The percentage of missing values in the movies column is - 0.0%\n",
      "\n",
      "The percentage of missing values in the year column is - 6.44%\n",
      "\n",
      "The percentage of missing values in the genre column is - 0.8%\n",
      "\n",
      "The percentage of missing values in the rating column is - 18.2%\n",
      "\n",
      "The percentage of missing values in the one_line column is - 0.0%\n",
      "\n",
      "The percentage of missing values in the stars column is - 0.0%\n",
      "\n",
      "The percentage of missing values in the votes column is - 18.2%\n",
      "\n",
      "The percentage of missing values in the runtime column is - 29.58%\n",
      "\n",
      "The percentage of missing values in the gross column is - 95.4%\n",
      "\n",
      " ---------------------------------------- \n",
      "The average percentage of missing values is 18.74% \n",
      " ----------------------------------------\n"
     ]
    }
   ],
   "source": [
    "# Getting the percentage of missing data in each column of data\n",
    "a = data.isna().mean().round(4) * 100\n",
    "col = a.index\n",
    "val = a.values\n",
    "\n",
    "for i in range(len(col)):\n",
    "    print(f\"\\nThe percentage of missing values in the {col[i]} column is - {round(val[i], 4)}%\")\n",
    "print(\"\\n\", \"----\"*10, f\"\\nThe average percentage of missing values is {round(val.mean(), 2)}%\",\"\\n\", \"----\"*10)"
   ]
  },
  {
   "cell_type": "markdown",
   "id": "6bc837ee",
   "metadata": {},
   "source": [
    "<b>BASED ON THE ABOVE INSIGHT IT WILL BE UNWISE TO DROP NULL VALUES</b>\n",
    "## Start cleaning the data while trying our best to preserve data"
   ]
  },
  {
   "cell_type": "code",
   "execution_count": 5,
   "id": "5b8d246a",
   "metadata": {},
   "outputs": [
    {
     "data": {
      "text/html": [
       "<div>\n",
       "<style scoped>\n",
       "    .dataframe tbody tr th:only-of-type {\n",
       "        vertical-align: middle;\n",
       "    }\n",
       "\n",
       "    .dataframe tbody tr th {\n",
       "        vertical-align: top;\n",
       "    }\n",
       "\n",
       "    .dataframe thead th {\n",
       "        text-align: right;\n",
       "    }\n",
       "</style>\n",
       "<table border=\"1\" class=\"dataframe\">\n",
       "  <thead>\n",
       "    <tr style=\"text-align: right;\">\n",
       "      <th></th>\n",
       "      <th>movies</th>\n",
       "      <th>year</th>\n",
       "      <th>genre</th>\n",
       "      <th>rating</th>\n",
       "      <th>one_line</th>\n",
       "      <th>stars</th>\n",
       "      <th>votes</th>\n",
       "      <th>runtime</th>\n",
       "      <th>gross</th>\n",
       "    </tr>\n",
       "  </thead>\n",
       "  <tbody>\n",
       "    <tr>\n",
       "      <th>0</th>\n",
       "      <td>Blood Red Sky</td>\n",
       "      <td>(2021)</td>\n",
       "      <td>\\nAction, Horror, Thriller</td>\n",
       "      <td>6.1</td>\n",
       "      <td>\\nA woman with a mysterious illness is forced ...</td>\n",
       "      <td>\\n    Director:\\nPeter Thorwarth\\n| \\n    Star...</td>\n",
       "      <td>21,062</td>\n",
       "      <td>121.0</td>\n",
       "      <td>NaN</td>\n",
       "    </tr>\n",
       "    <tr>\n",
       "      <th>1</th>\n",
       "      <td>Masters of the Universe: Revelation</td>\n",
       "      <td>(2021– )</td>\n",
       "      <td>\\nAnimation, Action, Adventure</td>\n",
       "      <td>5.0</td>\n",
       "      <td>\\nThe war for Eternia begins again in what may...</td>\n",
       "      <td>\\n            \\n    Stars:\\nChris Wood, \\nSara...</td>\n",
       "      <td>17,870</td>\n",
       "      <td>25.0</td>\n",
       "      <td>NaN</td>\n",
       "    </tr>\n",
       "    <tr>\n",
       "      <th>2</th>\n",
       "      <td>The Walking Dead</td>\n",
       "      <td>(2010–2022)</td>\n",
       "      <td>\\nDrama, Horror, Thriller</td>\n",
       "      <td>8.2</td>\n",
       "      <td>\\nSheriff Deputy Rick Grimes wakes up from a c...</td>\n",
       "      <td>\\n            \\n    Stars:\\nAndrew Lincoln, \\n...</td>\n",
       "      <td>885,805</td>\n",
       "      <td>44.0</td>\n",
       "      <td>NaN</td>\n",
       "    </tr>\n",
       "    <tr>\n",
       "      <th>3</th>\n",
       "      <td>Rick and Morty</td>\n",
       "      <td>(2013– )</td>\n",
       "      <td>\\nAnimation, Adventure, Comedy</td>\n",
       "      <td>9.2</td>\n",
       "      <td>\\nAn animated series that follows the exploits...</td>\n",
       "      <td>\\n            \\n    Stars:\\nJustin Roiland, \\n...</td>\n",
       "      <td>414,849</td>\n",
       "      <td>23.0</td>\n",
       "      <td>NaN</td>\n",
       "    </tr>\n",
       "    <tr>\n",
       "      <th>4</th>\n",
       "      <td>Army of Thieves</td>\n",
       "      <td>(2021)</td>\n",
       "      <td>\\nAction, Crime, Horror</td>\n",
       "      <td>NaN</td>\n",
       "      <td>\\nA prequel, set before the events of Army of ...</td>\n",
       "      <td>\\n    Director:\\nMatthias Schweighöfer\\n| \\n  ...</td>\n",
       "      <td>NaN</td>\n",
       "      <td>NaN</td>\n",
       "      <td>NaN</td>\n",
       "    </tr>\n",
       "  </tbody>\n",
       "</table>\n",
       "</div>"
      ],
      "text/plain": [
       "                                movies         year  \\\n",
       "0                        Blood Red Sky       (2021)   \n",
       "1  Masters of the Universe: Revelation     (2021– )   \n",
       "2                     The Walking Dead  (2010–2022)   \n",
       "3                       Rick and Morty     (2013– )   \n",
       "4                      Army of Thieves       (2021)   \n",
       "\n",
       "                                        genre  rating  \\\n",
       "0      \\nAction, Horror, Thriller                 6.1   \n",
       "1  \\nAnimation, Action, Adventure                 5.0   \n",
       "2       \\nDrama, Horror, Thriller                 8.2   \n",
       "3  \\nAnimation, Adventure, Comedy                 9.2   \n",
       "4         \\nAction, Crime, Horror                 NaN   \n",
       "\n",
       "                                            one_line  \\\n",
       "0  \\nA woman with a mysterious illness is forced ...   \n",
       "1  \\nThe war for Eternia begins again in what may...   \n",
       "2  \\nSheriff Deputy Rick Grimes wakes up from a c...   \n",
       "3  \\nAn animated series that follows the exploits...   \n",
       "4  \\nA prequel, set before the events of Army of ...   \n",
       "\n",
       "                                               stars    votes  runtime gross  \n",
       "0  \\n    Director:\\nPeter Thorwarth\\n| \\n    Star...   21,062    121.0   NaN  \n",
       "1  \\n            \\n    Stars:\\nChris Wood, \\nSara...   17,870     25.0   NaN  \n",
       "2  \\n            \\n    Stars:\\nAndrew Lincoln, \\n...  885,805     44.0   NaN  \n",
       "3  \\n            \\n    Stars:\\nJustin Roiland, \\n...  414,849     23.0   NaN  \n",
       "4  \\n    Director:\\nMatthias Schweighöfer\\n| \\n  ...      NaN      NaN   NaN  "
      ]
     },
     "execution_count": 5,
     "metadata": {},
     "output_type": "execute_result"
    }
   ],
   "source": [
    "# First 5 rows of data\n",
    "data.head()"
   ]
  },
  {
   "cell_type": "code",
   "execution_count": 6,
   "id": "8d2c115f",
   "metadata": {},
   "outputs": [
    {
     "data": {
      "text/html": [
       "<div>\n",
       "<style scoped>\n",
       "    .dataframe tbody tr th:only-of-type {\n",
       "        vertical-align: middle;\n",
       "    }\n",
       "\n",
       "    .dataframe tbody tr th {\n",
       "        vertical-align: top;\n",
       "    }\n",
       "\n",
       "    .dataframe thead th {\n",
       "        text-align: right;\n",
       "    }\n",
       "</style>\n",
       "<table border=\"1\" class=\"dataframe\">\n",
       "  <thead>\n",
       "    <tr style=\"text-align: right;\">\n",
       "      <th></th>\n",
       "      <th>movies</th>\n",
       "      <th>year</th>\n",
       "      <th>genre</th>\n",
       "      <th>rating</th>\n",
       "      <th>one_line</th>\n",
       "      <th>stars</th>\n",
       "      <th>votes</th>\n",
       "      <th>runtime</th>\n",
       "      <th>gross</th>\n",
       "    </tr>\n",
       "  </thead>\n",
       "  <tbody>\n",
       "    <tr>\n",
       "      <th>0</th>\n",
       "      <td>Blood Red Sky</td>\n",
       "      <td>(2021)</td>\n",
       "      <td>Action, Horror, Thriller</td>\n",
       "      <td>6.1</td>\n",
       "      <td>A woman with a mysterious illness is forced in...</td>\n",
       "      <td>Director:Peter Thorwarth|     Stars:Peri Baume...</td>\n",
       "      <td>21,062</td>\n",
       "      <td>121.0</td>\n",
       "      <td>NaN</td>\n",
       "    </tr>\n",
       "    <tr>\n",
       "      <th>1</th>\n",
       "      <td>Masters of the Universe: Revelation</td>\n",
       "      <td>(2021– )</td>\n",
       "      <td>Animation, Action, Adventure</td>\n",
       "      <td>5.0</td>\n",
       "      <td>The war for Eternia begins again in what may b...</td>\n",
       "      <td>Stars:Chris Wood, Sarah Michelle Gellar, Lena ...</td>\n",
       "      <td>17,870</td>\n",
       "      <td>25.0</td>\n",
       "      <td>NaN</td>\n",
       "    </tr>\n",
       "    <tr>\n",
       "      <th>2</th>\n",
       "      <td>The Walking Dead</td>\n",
       "      <td>(2010–2022)</td>\n",
       "      <td>Drama, Horror, Thriller</td>\n",
       "      <td>8.2</td>\n",
       "      <td>Sheriff Deputy Rick Grimes wakes up from a com...</td>\n",
       "      <td>Stars:Andrew Lincoln, Norman Reedus, Melissa M...</td>\n",
       "      <td>885,805</td>\n",
       "      <td>44.0</td>\n",
       "      <td>NaN</td>\n",
       "    </tr>\n",
       "    <tr>\n",
       "      <th>3</th>\n",
       "      <td>Rick and Morty</td>\n",
       "      <td>(2013– )</td>\n",
       "      <td>Animation, Adventure, Comedy</td>\n",
       "      <td>9.2</td>\n",
       "      <td>An animated series that follows the exploits o...</td>\n",
       "      <td>Stars:Justin Roiland, Chris Parnell, Spencer G...</td>\n",
       "      <td>414,849</td>\n",
       "      <td>23.0</td>\n",
       "      <td>NaN</td>\n",
       "    </tr>\n",
       "    <tr>\n",
       "      <th>4</th>\n",
       "      <td>Army of Thieves</td>\n",
       "      <td>(2021)</td>\n",
       "      <td>Action, Crime, Horror</td>\n",
       "      <td>NaN</td>\n",
       "      <td>A prequel, set before the events of Army of th...</td>\n",
       "      <td>Director:Matthias Schweighöfer|     Stars:Matt...</td>\n",
       "      <td>NaN</td>\n",
       "      <td>NaN</td>\n",
       "      <td>NaN</td>\n",
       "    </tr>\n",
       "  </tbody>\n",
       "</table>\n",
       "</div>"
      ],
      "text/plain": [
       "                                movies         year  \\\n",
       "0                        Blood Red Sky       (2021)   \n",
       "1  Masters of the Universe: Revelation     (2021– )   \n",
       "2                     The Walking Dead  (2010–2022)   \n",
       "3                       Rick and Morty     (2013– )   \n",
       "4                      Army of Thieves       (2021)   \n",
       "\n",
       "                          genre  rating  \\\n",
       "0      Action, Horror, Thriller     6.1   \n",
       "1  Animation, Action, Adventure     5.0   \n",
       "2       Drama, Horror, Thriller     8.2   \n",
       "3  Animation, Adventure, Comedy     9.2   \n",
       "4         Action, Crime, Horror     NaN   \n",
       "\n",
       "                                            one_line  \\\n",
       "0  A woman with a mysterious illness is forced in...   \n",
       "1  The war for Eternia begins again in what may b...   \n",
       "2  Sheriff Deputy Rick Grimes wakes up from a com...   \n",
       "3  An animated series that follows the exploits o...   \n",
       "4  A prequel, set before the events of Army of th...   \n",
       "\n",
       "                                               stars    votes  runtime gross  \n",
       "0  Director:Peter Thorwarth|     Stars:Peri Baume...   21,062    121.0   NaN  \n",
       "1  Stars:Chris Wood, Sarah Michelle Gellar, Lena ...   17,870     25.0   NaN  \n",
       "2  Stars:Andrew Lincoln, Norman Reedus, Melissa M...  885,805     44.0   NaN  \n",
       "3  Stars:Justin Roiland, Chris Parnell, Spencer G...  414,849     23.0   NaN  \n",
       "4  Director:Matthias Schweighöfer|     Stars:Matt...      NaN      NaN   NaN  "
      ]
     },
     "execution_count": 6,
     "metadata": {},
     "output_type": "execute_result"
    }
   ],
   "source": [
    "# Select all the object variables to replace \\n and strip the extra spaces in the values\n",
    "data_obj = data.select_dtypes(\"object\")\n",
    "data[data_obj.columns] = data_obj.apply(lambda x: x.str.replace(\"\\n\", \"\").str.strip())\n",
    "data.head()"
   ]
  },
  {
   "cell_type": "code",
   "execution_count": 7,
   "id": "f7f25acd",
   "metadata": {
    "scrolled": true
   },
   "outputs": [
    {
     "name": "stdout",
     "output_type": "stream",
     "text": [
      "movies\n",
      "1603                          Pieles\n",
      "8713    Power Rangers Beast Morphers\n",
      "4561             La Memoria del Agua\n",
      "6600                 Bleach: Burîchi\n",
      "2558                Soaked in Bleach\n",
      "Name: movies, dtype: object \n",
      "\n",
      "year\n",
      "1603         (2017)\n",
      "8713    (2019–2020)\n",
      "4561         (2015)\n",
      "6600    (2004–2012)\n",
      "2558         (2015)\n",
      "Name: year, dtype: object \n",
      "\n",
      "genre\n",
      "1603          Comedy, Drama, Fantasy\n",
      "8713        Action, Adventure, Drama\n",
      "4561                  Drama, Romance\n",
      "6600    Animation, Action, Adventure\n",
      "2558              Documentary, Crime\n",
      "Name: genre, dtype: object \n",
      "\n",
      "one_line\n",
      "1603    In a strange world where people share numerous...\n",
      "8713    Nate is reunited with his do-gooder parents, w...\n",
      "4561    When the accidental death of a couple's young ...\n",
      "6600    Ichigo and crew defeat the giant, but their en...\n",
      "2558    Tom Grant, a private investigator once hired b...\n",
      "Name: one_line, dtype: object \n",
      "\n",
      "stars\n",
      "1603    Director:Eduardo Casanova|     Stars:Ana Polvo...\n",
      "8713    Director:Oliver Driver|     Stars:Rorrie D. Tr...\n",
      "4561    Director:Matías Bize|     Stars:Elena Anaya, B...\n",
      "6600    Directors:Noriyuki Abe, Kôji Aritomi|     Star...\n",
      "2558    Director:Benjamin Statler|     Stars:Daniel Ro...\n",
      "Name: stars, dtype: object \n",
      "\n",
      "votes\n",
      "1603     5,206\n",
      "8713        23\n",
      "4561       702\n",
      "6600       186\n",
      "2558    12,398\n",
      "Name: votes, dtype: object \n",
      "\n",
      "gross\n",
      "1603    NaN\n",
      "8713    NaN\n",
      "4561    NaN\n",
      "6600    NaN\n",
      "2558    NaN\n",
      "Name: gross, dtype: object \n",
      "\n"
     ]
    }
   ],
   "source": [
    "# Getting an idea of what's left to do on the object datatypes.\n",
    "for i in data[data_obj.columns]:\n",
    "    print(i)\n",
    "    print(data[i].sample(n=5, random_state=4), \"\\n\")"
   ]
  },
  {
   "cell_type": "markdown",
   "id": "6189a268",
   "metadata": {},
   "source": [
    "Based on the above 'objects' column we can say that the <b>Year</b>, <b>Votes</b> and <b>Gross</b> all have issues that needs to be fixed"
   ]
  },
  {
   "cell_type": "code",
   "execution_count": 8,
   "id": "a7afc85e",
   "metadata": {},
   "outputs": [
    {
     "name": "stdout",
     "output_type": "stream",
     "text": [
      "<class 'pandas.core.frame.DataFrame'>\n",
      "RangeIndex: 9999 entries, 0 to 9998\n",
      "Data columns (total 9 columns):\n",
      " #   Column    Non-Null Count  Dtype  \n",
      "---  ------    --------------  -----  \n",
      " 0   movies    9999 non-null   object \n",
      " 1   year      9355 non-null   object \n",
      " 2   genre     9919 non-null   object \n",
      " 3   rating    8179 non-null   float64\n",
      " 4   one_line  9999 non-null   object \n",
      " 5   stars     9999 non-null   object \n",
      " 6   votes     8179 non-null   object \n",
      " 7   runtime   7041 non-null   float64\n",
      " 8   gross     460 non-null    object \n",
      "dtypes: float64(2), object(7)\n",
      "memory usage: 703.2+ KB\n"
     ]
    }
   ],
   "source": [
    "# Checking for data types and missing values.\n",
    "data.info()"
   ]
  },
  {
   "cell_type": "markdown",
   "id": "8c0f9913",
   "metadata": {},
   "source": [
    "### Working on the Year column\n",
    "<hr>"
   ]
  },
  {
   "cell_type": "code",
   "execution_count": 9,
   "id": "4a235216",
   "metadata": {},
   "outputs": [
    {
     "data": {
      "text/plain": [
       "['(2021)', '(2021– )', '(2010–2022)', '(2013– )', '(2021)', '(2020– )']"
      ]
     },
     "execution_count": 9,
     "metadata": {},
     "output_type": "execute_result"
    }
   ],
   "source": [
    "# Checking the first 7 values of the year column\n",
    "data.year.to_list()[:6]"
   ]
  },
  {
   "cell_type": "code",
   "execution_count": 10,
   "id": "012cd649",
   "metadata": {},
   "outputs": [],
   "source": [
    "# Working on the 'year' column\n",
    "# Remove the brackets'()' and the extra spaces\n",
    "data[\"year\"] = data[\"year\"].str.replace(\"(\", \"\", regex=True)\n",
    "data[\"year\"] = data[\"year\"].str.replace(\")\", \"\", regex=True)\n",
    "data['year'] = data['year'].replace(\" \", \"\", regex=True)"
   ]
  },
  {
   "cell_type": "code",
   "execution_count": 11,
   "id": "f72f8c21",
   "metadata": {},
   "outputs": [
    {
     "data": {
      "text/plain": [
       "['2021', '2021–', '2010–2022', '2013–', '2021', '2020–', '2021', '2006–2013']"
      ]
     },
     "execution_count": 11,
     "metadata": {},
     "output_type": "execute_result"
    }
   ],
   "source": [
    "# Confirming the changes made\n",
    "data.year.to_list()[:8]"
   ]
  },
  {
   "cell_type": "code",
   "execution_count": 12,
   "id": "050e27e9",
   "metadata": {
    "scrolled": true
   },
   "outputs": [
    {
     "data": {
      "text/plain": [
       "array(['2021', '2010', '2013', '2020', '2006', '2019', '2016', '2011',\n",
       "       '2005', '2008', '2017', '1994', '2014', '2015', '2003', '2009',\n",
       "       '2018', '1987', '2012', '2007', '2000', '1993', '1999', '2001',\n",
       "       '1997', '1989', '1975', '1995', '1984', '1998', '1966', '1990',\n",
       "       '2002', '1976', '1978', '2022', '1982', '1968', '2004', '1996',\n",
       "       '1971', '1980', '1962', '1991', '1960', '1988', '1969', '1961',\n",
       "       '1979', '1956', '1983', nan, '1986', '1967', '1974', '1992',\n",
       "       '1958', '1932', '1941', '1950', '1946', '1981', '1952', '1957',\n",
       "       '1954', '1955', '1948', '1947', '1977', '2023', '1945', '1953',\n",
       "       '1985', '1973', '1972', '1965', '1944', '1933', '1938'],\n",
       "      dtype=object)"
      ]
     },
     "execution_count": 12,
     "metadata": {},
     "output_type": "execute_result"
    }
   ],
   "source": [
    "# Create a new column to show when the movie aired \n",
    "data['start_year'] = data['year'].str.extract(r'(\\d{4})')\n",
    "data['start_year'].unique()"
   ]
  },
  {
   "cell_type": "code",
   "execution_count": 13,
   "id": "0e68b63a",
   "metadata": {},
   "outputs": [
    {
     "data": {
      "text/plain": [
       "array(['2021', '-', '2022', '2013', '2004', '2020', '2015', '2019',\n",
       "       '2014', '2018', '2017', '1994', '2007', '1993', '2016', '2012',\n",
       "       '2001', '1999', '1998', '1975', '2008', '2006', '1996', '2000',\n",
       "       '2003', '1969', '1991', '1995', '2002', '1976', '1978', '2005',\n",
       "       '1968', '2010', '2011', '1971', '1989', '1997', '1980', '2009',\n",
       "       '1962', '1984', '1960', '1988', '1987', '1961', '1979', '1956',\n",
       "       '1983', '1990', '1986', '1966', '1967', '1974', '1992', '1958',\n",
       "       '1932', '1941', '1950', '1946', '1952', '1957', '1954', '1982',\n",
       "       '1955', '1948', '1947', '1977', '2023', '1945', '1953', '1985',\n",
       "       '1973', '1972', '1965', '1944', '1933', '1938'], dtype=object)"
      ]
     },
     "execution_count": 13,
     "metadata": {},
     "output_type": "execute_result"
    }
   ],
   "source": [
    "# Creating a new column to show when the movie stopped showing \"Officially\"\n",
    "data['end_year'] = data['year'].str.extract(r'(\\d{4}$)').replace(np.nan, \"-\")\n",
    "data['end_year'].unique()"
   ]
  },
  {
   "cell_type": "code",
   "execution_count": 14,
   "id": "4dcf6c33",
   "metadata": {},
   "outputs": [
    {
     "data": {
      "text/plain": [
       "array(['-', 'TVSpecial', 'TVMovie', 'Video', 'I', 'III', 'II', 'XII',\n",
       "       'VII', 'IV', 'TVShort', 'V', 'VIII', 'XXIII', 'VI', 'XI', 'XLI',\n",
       "       'IX', 'XIII', 'VideoGame'], dtype=object)"
      ]
     },
     "execution_count": 14,
     "metadata": {},
     "output_type": "execute_result"
    }
   ],
   "source": [
    "# Creating a new column to show the type of movie showed\n",
    "data['showing_type'] = data['year'].str.extract(r'(\\D*$)').replace(\"\", \"-\").replace(np.nan, \"-\").replace(\"–\", \"-\")\n",
    "data['showing_type'].unique()"
   ]
  },
  {
   "cell_type": "code",
   "execution_count": 15,
   "id": "e4d38279",
   "metadata": {},
   "outputs": [
    {
     "data": {
      "text/html": [
       "<div>\n",
       "<style scoped>\n",
       "    .dataframe tbody tr th:only-of-type {\n",
       "        vertical-align: middle;\n",
       "    }\n",
       "\n",
       "    .dataframe tbody tr th {\n",
       "        vertical-align: top;\n",
       "    }\n",
       "\n",
       "    .dataframe thead th {\n",
       "        text-align: right;\n",
       "    }\n",
       "</style>\n",
       "<table border=\"1\" class=\"dataframe\">\n",
       "  <thead>\n",
       "    <tr style=\"text-align: right;\">\n",
       "      <th></th>\n",
       "      <th>movies</th>\n",
       "      <th>genre</th>\n",
       "      <th>rating</th>\n",
       "      <th>one_line</th>\n",
       "      <th>stars</th>\n",
       "      <th>votes</th>\n",
       "      <th>runtime</th>\n",
       "      <th>gross</th>\n",
       "      <th>start_year</th>\n",
       "      <th>end_year</th>\n",
       "      <th>showing_type</th>\n",
       "    </tr>\n",
       "  </thead>\n",
       "  <tbody>\n",
       "    <tr>\n",
       "      <th>0</th>\n",
       "      <td>Blood Red Sky</td>\n",
       "      <td>Action, Horror, Thriller</td>\n",
       "      <td>6.1</td>\n",
       "      <td>A woman with a mysterious illness is forced in...</td>\n",
       "      <td>Director:Peter Thorwarth|     Stars:Peri Baume...</td>\n",
       "      <td>21,062</td>\n",
       "      <td>121.0</td>\n",
       "      <td>NaN</td>\n",
       "      <td>2021</td>\n",
       "      <td>2021</td>\n",
       "      <td>-</td>\n",
       "    </tr>\n",
       "    <tr>\n",
       "      <th>1</th>\n",
       "      <td>Masters of the Universe: Revelation</td>\n",
       "      <td>Animation, Action, Adventure</td>\n",
       "      <td>5.0</td>\n",
       "      <td>The war for Eternia begins again in what may b...</td>\n",
       "      <td>Stars:Chris Wood, Sarah Michelle Gellar, Lena ...</td>\n",
       "      <td>17,870</td>\n",
       "      <td>25.0</td>\n",
       "      <td>NaN</td>\n",
       "      <td>2021</td>\n",
       "      <td>-</td>\n",
       "      <td>-</td>\n",
       "    </tr>\n",
       "  </tbody>\n",
       "</table>\n",
       "</div>"
      ],
      "text/plain": [
       "                                movies                         genre  rating  \\\n",
       "0                        Blood Red Sky      Action, Horror, Thriller     6.1   \n",
       "1  Masters of the Universe: Revelation  Animation, Action, Adventure     5.0   \n",
       "\n",
       "                                            one_line  \\\n",
       "0  A woman with a mysterious illness is forced in...   \n",
       "1  The war for Eternia begins again in what may b...   \n",
       "\n",
       "                                               stars   votes  runtime gross  \\\n",
       "0  Director:Peter Thorwarth|     Stars:Peri Baume...  21,062    121.0   NaN   \n",
       "1  Stars:Chris Wood, Sarah Michelle Gellar, Lena ...  17,870     25.0   NaN   \n",
       "\n",
       "  start_year end_year showing_type  \n",
       "0       2021     2021            -  \n",
       "1       2021        -            -  "
      ]
     },
     "execution_count": 15,
     "metadata": {},
     "output_type": "execute_result"
    }
   ],
   "source": [
    "# Dropping the year column\n",
    "data.drop('year', axis=1, inplace=True)\n",
    "\n",
    "# Showing the top 2\n",
    "data.head(2)"
   ]
  },
  {
   "cell_type": "markdown",
   "id": "50a345d1",
   "metadata": {},
   "source": [
    "### Working on the votes column\n",
    "<hr>"
   ]
  },
  {
   "cell_type": "code",
   "execution_count": 16,
   "id": "6d89d66f",
   "metadata": {},
   "outputs": [
    {
     "data": {
      "text/plain": [
       "1603     5,206\n",
       "8713        23\n",
       "4561       702\n",
       "6600       186\n",
       "2558    12,398\n",
       "7642       119\n",
       "8911        36\n",
       "3319     3,017\n",
       "6852       NaN\n",
       "1366    21,963\n",
       "Name: votes, dtype: object"
      ]
     },
     "execution_count": 16,
     "metadata": {},
     "output_type": "execute_result"
    }
   ],
   "source": [
    "# Viewing 10 random votes data values\n",
    "data.votes.sample(n=10, random_state=4)"
   ]
  },
  {
   "cell_type": "code",
   "execution_count": 17,
   "id": "30df9eba",
   "metadata": {},
   "outputs": [
    {
     "name": "stdout",
     "output_type": "stream",
     "text": [
      "We are done with the 'votes' column\n"
     ]
    }
   ],
   "source": [
    "# Working on the votes data next first thing is to replace the 'NaN' with '0'\n",
    "data['votes'].replace(np.nan, '0', inplace=True)\n",
    "\n",
    "# Replace the ',' inbetween the numbers with nothing 'lol'\n",
    "data['votes'] = data['votes'].str.replace(',', \"\")\n",
    "\n",
    "# Convert the column into an interger data type\n",
    "data.votes = data['votes'].astype('int64')\n",
    "\n",
    "# Good :)\n",
    "print(\"We are done with the 'votes' column\")"
   ]
  },
  {
   "cell_type": "code",
   "execution_count": 18,
   "id": "c646efd7",
   "metadata": {
    "scrolled": true
   },
   "outputs": [
    {
     "data": {
      "text/plain": [
       "1603     5206\n",
       "8713       23\n",
       "4561      702\n",
       "6600      186\n",
       "2558    12398\n",
       "Name: votes, dtype: int64"
      ]
     },
     "execution_count": 18,
     "metadata": {},
     "output_type": "execute_result"
    }
   ],
   "source": [
    "data['votes'].sample(n=5, random_state=4)"
   ]
  },
  {
   "cell_type": "markdown",
   "id": "26ef7cee",
   "metadata": {},
   "source": [
    "### Working on the Gross column\n",
    "<hr>"
   ]
  },
  {
   "cell_type": "code",
   "execution_count": 19,
   "id": "18eec4b8",
   "metadata": {},
   "outputs": [
    {
     "data": {
      "text/plain": [
       "3025        NaN\n",
       "7410        NaN\n",
       "4507        NaN\n",
       "8277        NaN\n",
       "231         NaN\n",
       "6290        NaN\n",
       "800     $15.09M\n",
       "1859        NaN\n",
       "5068        NaN\n",
       "9631        NaN\n",
       "Name: gross, dtype: object"
      ]
     },
     "execution_count": 19,
     "metadata": {},
     "output_type": "execute_result"
    }
   ],
   "source": [
    "# Viewing 10 random data vlaues from the gross column\n",
    "data.gross.sample(n=10, random_state=3)"
   ]
  },
  {
   "cell_type": "code",
   "execution_count": 20,
   "id": "75cf14c4",
   "metadata": {
    "scrolled": true
   },
   "outputs": [
    {
     "name": "stdout",
     "output_type": "stream",
     "text": [
      "we are done with the 'gross' column\n"
     ]
    }
   ],
   "source": [
    "# Replace the 'NaN' in the column to '0'\n",
    "data['gross'].replace(np.nan, '0', inplace=True)\n",
    "\n",
    "# Remove the '$' and the 'M' from each values in the data series\n",
    "data['gross'] = data['gross'].str.replace(\"$\",\"\", regex=True)\n",
    "data['gross'] = data['gross'].str.replace(\"M\",\"\", regex=True)\n",
    "\n",
    "# Performing multiplication to convert to millions as the letter 'M' represented millions\n",
    "data['gross'] = data.gross.apply(lambda x: float(x) * 1000000)\n",
    "\n",
    "# Convert the datatype from a 'object' to an 'integer' number\n",
    "data.gross = data['gross'].astype('int64')\n",
    "\n",
    "# Tres Bien :)\n",
    "print(\"we are done with the 'gross' column\")"
   ]
  },
  {
   "cell_type": "code",
   "execution_count": 21,
   "id": "23c6eef0",
   "metadata": {},
   "outputs": [
    {
     "data": {
      "text/plain": [
       "9582           0\n",
       "7546           0\n",
       "3001           0\n",
       "6858           0\n",
       "770     24150000\n",
       "6908           0\n",
       "2019           0\n",
       "7309           0\n",
       "1334     4540000\n",
       "5928           0\n",
       "Name: gross, dtype: int64"
      ]
     },
     "execution_count": 21,
     "metadata": {},
     "output_type": "execute_result"
    }
   ],
   "source": [
    "# Viewing 10 random data vlaues from the gross column\n",
    "data.gross.sample(n=10, random_state=8)"
   ]
  },
  {
   "cell_type": "markdown",
   "id": "61253e16",
   "metadata": {},
   "source": [
    "### Working on the Runtime column\n",
    "<hr>"
   ]
  },
  {
   "cell_type": "code",
   "execution_count": 22,
   "id": "9555f82e",
   "metadata": {},
   "outputs": [
    {
     "data": {
      "text/plain": [
       "1603     77.0\n",
       "8713      NaN\n",
       "4561     88.0\n",
       "6600     24.0\n",
       "2558     90.0\n",
       "7642      NaN\n",
       "8911     25.0\n",
       "3319    101.0\n",
       "6852      NaN\n",
       "1366    104.0\n",
       "Name: runtime, dtype: float64"
      ]
     },
     "execution_count": 22,
     "metadata": {},
     "output_type": "execute_result"
    }
   ],
   "source": [
    "# Viewing 10 random values from the runtime column\n",
    "data.runtime.sample(n=10, random_state=4)"
   ]
  },
  {
   "cell_type": "code",
   "execution_count": 23,
   "id": "bfc6f408",
   "metadata": {},
   "outputs": [
    {
     "name": "stdout",
     "output_type": "stream",
     "text": [
      "we are done with the 'runtime' column\n"
     ]
    }
   ],
   "source": [
    "# Since the runtime column is a floating number we would convert the 'Nan' to '0.0'\n",
    "data.runtime.replace(np.nan, 0, inplace=True)\n",
    "\n",
    "# Convert the datatype from an 'object' to a 'floating' number\n",
    "data.runtime = data['runtime'].astype('int64')\n",
    "\n",
    "# Merci :)\n",
    "print(\"we are done with the 'runtime' column\")"
   ]
  },
  {
   "cell_type": "code",
   "execution_count": 24,
   "id": "14033e17",
   "metadata": {},
   "outputs": [
    {
     "data": {
      "text/plain": [
       "3025    126\n",
       "7410     42\n",
       "4507      6\n",
       "8277     53\n",
       "231      90\n",
       "6290      0\n",
       "800     101\n",
       "1859      0\n",
       "5068      0\n",
       "9631      0\n",
       "Name: runtime, dtype: int64"
      ]
     },
     "execution_count": 24,
     "metadata": {},
     "output_type": "execute_result"
    }
   ],
   "source": [
    "# Viewing 10 random values from the runtime column\n",
    "data.runtime.sample(n=10, random_state=3)"
   ]
  },
  {
   "cell_type": "markdown",
   "id": "5f9be018",
   "metadata": {},
   "source": [
    "### Working on the Rating Column\n",
    "<hr>"
   ]
  },
  {
   "cell_type": "code",
   "execution_count": 25,
   "id": "745c0fd1",
   "metadata": {},
   "outputs": [
    {
     "data": {
      "text/plain": [
       "3025    4.5\n",
       "7410    6.6\n",
       "4507    6.9\n",
       "8277    6.2\n",
       "231     6.7\n",
       "6290    NaN\n",
       "800     7.7\n",
       "1859    NaN\n",
       "5068    NaN\n",
       "9631    7.7\n",
       "Name: rating, dtype: float64"
      ]
     },
     "execution_count": 25,
     "metadata": {},
     "output_type": "execute_result"
    }
   ],
   "source": [
    "# Viewing 10 random data vlaues from the rating column\n",
    "data.rating.sample(n=10, random_state=3)"
   ]
  },
  {
   "cell_type": "code",
   "execution_count": 26,
   "id": "e9a1c525",
   "metadata": {},
   "outputs": [
    {
     "name": "stdout",
     "output_type": "stream",
     "text": [
      "we are done with the 'rating' column\n"
     ]
    }
   ],
   "source": [
    "# Since the rating column is a floating point number we can replace NaN' with 0.0\n",
    "data.rating.replace(np.nan, 0.0, inplace=True)\n",
    "\n",
    "# Quick :)\n",
    "print(\"we are done with the 'rating' column\")"
   ]
  },
  {
   "cell_type": "code",
   "execution_count": 27,
   "id": "993f617f",
   "metadata": {},
   "outputs": [
    {
     "data": {
      "text/plain": [
       "1603    6.2\n",
       "8713    8.3\n",
       "4561    6.1\n",
       "6600    7.5\n",
       "2558    7.4\n",
       "7642    7.5\n",
       "8911    6.5\n",
       "3319    5.9\n",
       "6852    0.0\n",
       "1366    6.2\n",
       "Name: rating, dtype: float64"
      ]
     },
     "execution_count": 27,
     "metadata": {},
     "output_type": "execute_result"
    }
   ],
   "source": [
    "# Viewing 10 random data vlaues from the rating column\n",
    "data.rating.sample(n=10, random_state=4)"
   ]
  },
  {
   "cell_type": "markdown",
   "id": "36d3a737",
   "metadata": {},
   "source": [
    "### Working on the one_line column\n",
    "<hr>"
   ]
  },
  {
   "cell_type": "code",
   "execution_count": 28,
   "id": "d2de9675",
   "metadata": {},
   "outputs": [
    {
     "data": {
      "text/plain": [
       "9994    Add a Plot\n",
       "9995    Add a Plot\n",
       "9996    Add a Plot\n",
       "9997    Add a Plot\n",
       "9998    Add a Plot\n",
       "Name: one_line, dtype: object"
      ]
     },
     "execution_count": 28,
     "metadata": {},
     "output_type": "execute_result"
    }
   ],
   "source": [
    "# Saw this and decided to make some changes\n",
    "data.one_line.tail()"
   ]
  },
  {
   "cell_type": "code",
   "execution_count": 29,
   "id": "950b839e",
   "metadata": {},
   "outputs": [
    {
     "name": "stdout",
     "output_type": "stream",
     "text": [
      "we are done with the 'one_line' column\n"
     ]
    }
   ],
   "source": [
    "# Changing the \"Add a Plot\" to \"No plot given\" for better underastanding.\n",
    "data.one_line = data['one_line'].str.replace(\"Add a Plot\", \"No plot given\")\n",
    "\n",
    "# Done :)\n",
    "print(\"we are done with the 'one_line' column\")"
   ]
  },
  {
   "cell_type": "markdown",
   "id": "fd280853",
   "metadata": {},
   "source": [
    "<b>After cleaning each column we can view the dataset to have an idea on how it looks now</b>"
   ]
  },
  {
   "cell_type": "code",
   "execution_count": 30,
   "id": "a9f683f2",
   "metadata": {},
   "outputs": [
    {
     "data": {
      "text/html": [
       "<div>\n",
       "<style scoped>\n",
       "    .dataframe tbody tr th:only-of-type {\n",
       "        vertical-align: middle;\n",
       "    }\n",
       "\n",
       "    .dataframe tbody tr th {\n",
       "        vertical-align: top;\n",
       "    }\n",
       "\n",
       "    .dataframe thead th {\n",
       "        text-align: right;\n",
       "    }\n",
       "</style>\n",
       "<table border=\"1\" class=\"dataframe\">\n",
       "  <thead>\n",
       "    <tr style=\"text-align: right;\">\n",
       "      <th></th>\n",
       "      <th>movies</th>\n",
       "      <th>genre</th>\n",
       "      <th>rating</th>\n",
       "      <th>one_line</th>\n",
       "      <th>stars</th>\n",
       "      <th>votes</th>\n",
       "      <th>runtime</th>\n",
       "      <th>gross</th>\n",
       "      <th>start_year</th>\n",
       "      <th>end_year</th>\n",
       "      <th>showing_type</th>\n",
       "    </tr>\n",
       "  </thead>\n",
       "  <tbody>\n",
       "    <tr>\n",
       "      <th>0</th>\n",
       "      <td>Blood Red Sky</td>\n",
       "      <td>Action, Horror, Thriller</td>\n",
       "      <td>6.1</td>\n",
       "      <td>A woman with a mysterious illness is forced in...</td>\n",
       "      <td>Director:Peter Thorwarth|     Stars:Peri Baume...</td>\n",
       "      <td>21062</td>\n",
       "      <td>121</td>\n",
       "      <td>0</td>\n",
       "      <td>2021</td>\n",
       "      <td>2021</td>\n",
       "      <td>-</td>\n",
       "    </tr>\n",
       "    <tr>\n",
       "      <th>1</th>\n",
       "      <td>Masters of the Universe: Revelation</td>\n",
       "      <td>Animation, Action, Adventure</td>\n",
       "      <td>5.0</td>\n",
       "      <td>The war for Eternia begins again in what may b...</td>\n",
       "      <td>Stars:Chris Wood, Sarah Michelle Gellar, Lena ...</td>\n",
       "      <td>17870</td>\n",
       "      <td>25</td>\n",
       "      <td>0</td>\n",
       "      <td>2021</td>\n",
       "      <td>-</td>\n",
       "      <td>-</td>\n",
       "    </tr>\n",
       "    <tr>\n",
       "      <th>2</th>\n",
       "      <td>The Walking Dead</td>\n",
       "      <td>Drama, Horror, Thriller</td>\n",
       "      <td>8.2</td>\n",
       "      <td>Sheriff Deputy Rick Grimes wakes up from a com...</td>\n",
       "      <td>Stars:Andrew Lincoln, Norman Reedus, Melissa M...</td>\n",
       "      <td>885805</td>\n",
       "      <td>44</td>\n",
       "      <td>0</td>\n",
       "      <td>2010</td>\n",
       "      <td>2022</td>\n",
       "      <td>-</td>\n",
       "    </tr>\n",
       "    <tr>\n",
       "      <th>3</th>\n",
       "      <td>Rick and Morty</td>\n",
       "      <td>Animation, Adventure, Comedy</td>\n",
       "      <td>9.2</td>\n",
       "      <td>An animated series that follows the exploits o...</td>\n",
       "      <td>Stars:Justin Roiland, Chris Parnell, Spencer G...</td>\n",
       "      <td>414849</td>\n",
       "      <td>23</td>\n",
       "      <td>0</td>\n",
       "      <td>2013</td>\n",
       "      <td>-</td>\n",
       "      <td>-</td>\n",
       "    </tr>\n",
       "    <tr>\n",
       "      <th>4</th>\n",
       "      <td>Army of Thieves</td>\n",
       "      <td>Action, Crime, Horror</td>\n",
       "      <td>0.0</td>\n",
       "      <td>A prequel, set before the events of Army of th...</td>\n",
       "      <td>Director:Matthias Schweighöfer|     Stars:Matt...</td>\n",
       "      <td>0</td>\n",
       "      <td>0</td>\n",
       "      <td>0</td>\n",
       "      <td>2021</td>\n",
       "      <td>2021</td>\n",
       "      <td>-</td>\n",
       "    </tr>\n",
       "    <tr>\n",
       "      <th>...</th>\n",
       "      <td>...</td>\n",
       "      <td>...</td>\n",
       "      <td>...</td>\n",
       "      <td>...</td>\n",
       "      <td>...</td>\n",
       "      <td>...</td>\n",
       "      <td>...</td>\n",
       "      <td>...</td>\n",
       "      <td>...</td>\n",
       "      <td>...</td>\n",
       "      <td>...</td>\n",
       "    </tr>\n",
       "    <tr>\n",
       "      <th>9994</th>\n",
       "      <td>The Imperfects</td>\n",
       "      <td>Adventure, Drama, Fantasy</td>\n",
       "      <td>0.0</td>\n",
       "      <td>No plot given</td>\n",
       "      <td>Stars:Morgan Taylor Campbell, Chris Cope, Iñak...</td>\n",
       "      <td>0</td>\n",
       "      <td>0</td>\n",
       "      <td>0</td>\n",
       "      <td>2021</td>\n",
       "      <td>-</td>\n",
       "      <td>-</td>\n",
       "    </tr>\n",
       "    <tr>\n",
       "      <th>9995</th>\n",
       "      <td>Arcane</td>\n",
       "      <td>Animation, Action, Adventure</td>\n",
       "      <td>0.0</td>\n",
       "      <td>No plot given</td>\n",
       "      <td></td>\n",
       "      <td>0</td>\n",
       "      <td>0</td>\n",
       "      <td>0</td>\n",
       "      <td>2021</td>\n",
       "      <td>-</td>\n",
       "      <td>-</td>\n",
       "    </tr>\n",
       "    <tr>\n",
       "      <th>9996</th>\n",
       "      <td>Heart of Invictus</td>\n",
       "      <td>Documentary, Sport</td>\n",
       "      <td>0.0</td>\n",
       "      <td>No plot given</td>\n",
       "      <td>Director:Orlando von Einsiedel|     Star:Princ...</td>\n",
       "      <td>0</td>\n",
       "      <td>0</td>\n",
       "      <td>0</td>\n",
       "      <td>2022</td>\n",
       "      <td>-</td>\n",
       "      <td>-</td>\n",
       "    </tr>\n",
       "    <tr>\n",
       "      <th>9997</th>\n",
       "      <td>The Imperfects</td>\n",
       "      <td>Adventure, Drama, Fantasy</td>\n",
       "      <td>0.0</td>\n",
       "      <td>No plot given</td>\n",
       "      <td>Director:Jovanka Vuckovic|     Stars:Morgan Ta...</td>\n",
       "      <td>0</td>\n",
       "      <td>0</td>\n",
       "      <td>0</td>\n",
       "      <td>2021</td>\n",
       "      <td>-</td>\n",
       "      <td>-</td>\n",
       "    </tr>\n",
       "    <tr>\n",
       "      <th>9998</th>\n",
       "      <td>The Imperfects</td>\n",
       "      <td>Adventure, Drama, Fantasy</td>\n",
       "      <td>0.0</td>\n",
       "      <td>No plot given</td>\n",
       "      <td>Director:Jovanka Vuckovic|     Stars:Morgan Ta...</td>\n",
       "      <td>0</td>\n",
       "      <td>0</td>\n",
       "      <td>0</td>\n",
       "      <td>2021</td>\n",
       "      <td>-</td>\n",
       "      <td>-</td>\n",
       "    </tr>\n",
       "  </tbody>\n",
       "</table>\n",
       "<p>9999 rows × 11 columns</p>\n",
       "</div>"
      ],
      "text/plain": [
       "                                   movies                         genre  \\\n",
       "0                           Blood Red Sky      Action, Horror, Thriller   \n",
       "1     Masters of the Universe: Revelation  Animation, Action, Adventure   \n",
       "2                        The Walking Dead       Drama, Horror, Thriller   \n",
       "3                          Rick and Morty  Animation, Adventure, Comedy   \n",
       "4                         Army of Thieves         Action, Crime, Horror   \n",
       "...                                   ...                           ...   \n",
       "9994                       The Imperfects     Adventure, Drama, Fantasy   \n",
       "9995                               Arcane  Animation, Action, Adventure   \n",
       "9996                    Heart of Invictus            Documentary, Sport   \n",
       "9997                       The Imperfects     Adventure, Drama, Fantasy   \n",
       "9998                       The Imperfects     Adventure, Drama, Fantasy   \n",
       "\n",
       "      rating                                           one_line  \\\n",
       "0        6.1  A woman with a mysterious illness is forced in...   \n",
       "1        5.0  The war for Eternia begins again in what may b...   \n",
       "2        8.2  Sheriff Deputy Rick Grimes wakes up from a com...   \n",
       "3        9.2  An animated series that follows the exploits o...   \n",
       "4        0.0  A prequel, set before the events of Army of th...   \n",
       "...      ...                                                ...   \n",
       "9994     0.0                                      No plot given   \n",
       "9995     0.0                                      No plot given   \n",
       "9996     0.0                                      No plot given   \n",
       "9997     0.0                                      No plot given   \n",
       "9998     0.0                                      No plot given   \n",
       "\n",
       "                                                  stars   votes  runtime  \\\n",
       "0     Director:Peter Thorwarth|     Stars:Peri Baume...   21062      121   \n",
       "1     Stars:Chris Wood, Sarah Michelle Gellar, Lena ...   17870       25   \n",
       "2     Stars:Andrew Lincoln, Norman Reedus, Melissa M...  885805       44   \n",
       "3     Stars:Justin Roiland, Chris Parnell, Spencer G...  414849       23   \n",
       "4     Director:Matthias Schweighöfer|     Stars:Matt...       0        0   \n",
       "...                                                 ...     ...      ...   \n",
       "9994  Stars:Morgan Taylor Campbell, Chris Cope, Iñak...       0        0   \n",
       "9995                                                          0        0   \n",
       "9996  Director:Orlando von Einsiedel|     Star:Princ...       0        0   \n",
       "9997  Director:Jovanka Vuckovic|     Stars:Morgan Ta...       0        0   \n",
       "9998  Director:Jovanka Vuckovic|     Stars:Morgan Ta...       0        0   \n",
       "\n",
       "      gross start_year end_year showing_type  \n",
       "0         0       2021     2021            -  \n",
       "1         0       2021        -            -  \n",
       "2         0       2010     2022            -  \n",
       "3         0       2013        -            -  \n",
       "4         0       2021     2021            -  \n",
       "...     ...        ...      ...          ...  \n",
       "9994      0       2021        -            -  \n",
       "9995      0       2021        -            -  \n",
       "9996      0       2022        -            -  \n",
       "9997      0       2021        -            -  \n",
       "9998      0       2021        -            -  \n",
       "\n",
       "[9999 rows x 11 columns]"
      ]
     },
     "execution_count": 30,
     "metadata": {},
     "output_type": "execute_result"
    }
   ],
   "source": [
    "# Checking for all the changes in the dataset.\n",
    "data"
   ]
  },
  {
   "cell_type": "markdown",
   "id": "9370f248",
   "metadata": {},
   "source": [
    "### Checking for duplicates\n",
    "<hr>"
   ]
  },
  {
   "cell_type": "code",
   "execution_count": 31,
   "id": "cdb1b53c",
   "metadata": {},
   "outputs": [
    {
     "name": "stdout",
     "output_type": "stream",
     "text": [
      "Total duplicates '431' rows of data amounts to 4.31% of our dataset\n"
     ]
    }
   ],
   "source": [
    "# Checking for duplicate data\n",
    "datah = data.copy()\n",
    "sa = datah.duplicated(keep='first')\n",
    "datah = datah[~sa]\n",
    "\n",
    "# Checking the percentage of duplicate data\n",
    "print(f\"Total duplicates '{data.shape[0] - datah.shape[0]}' rows of data amounts to {round((data.shape[0]-datah.shape[0])/data.shape[0], 4) * 100}% of our dataset\")"
   ]
  },
  {
   "cell_type": "markdown",
   "id": "dd62ad84",
   "metadata": {},
   "source": [
    "### Dropping the null data\n",
    "<hr>"
   ]
  },
  {
   "cell_type": "code",
   "execution_count": 32,
   "id": "26b04efb",
   "metadata": {},
   "outputs": [
    {
     "data": {
      "text/plain": [
       "movies            0\n",
       "genre            78\n",
       "rating            0\n",
       "one_line          0\n",
       "stars             0\n",
       "votes             0\n",
       "runtime           0\n",
       "gross             0\n",
       "start_year      635\n",
       "end_year          0\n",
       "showing_type      0\n",
       "dtype: int64"
      ]
     },
     "execution_count": 32,
     "metadata": {},
     "output_type": "execute_result"
    }
   ],
   "source": [
    "# Confirming Null values again\n",
    "datah.isnull().sum()"
   ]
  },
  {
   "cell_type": "code",
   "execution_count": 33,
   "id": "c33f2f3f",
   "metadata": {},
   "outputs": [
    {
     "name": "stdout",
     "output_type": "stream",
     "text": [
      "Total percentage of dropped data is '7.46%' which amounts to 713 rows of data out of a total of 9568 rows of data\n"
     ]
    }
   ],
   "source": [
    "# Checking for null in the dataframe\n",
    "fin = datah.isna().mean().round(4) * 100\n",
    "val_f = fin.values\n",
    "rows = datah.isna().sum().values\n",
    "\n",
    "print(f\"Total percentage of dropped data is '{round(sum(val_f), 4)}%' which amounts to {sum(rows)}\"\n",
    "      f\" rows of data out of a total of {datah.shape[0]} rows of data\")"
   ]
  },
  {
   "cell_type": "code",
   "execution_count": 34,
   "id": "9fee665d",
   "metadata": {},
   "outputs": [],
   "source": [
    "# Dropping the null data\n",
    "datah.dropna(inplace=True)"
   ]
  },
  {
   "cell_type": "code",
   "execution_count": 35,
   "id": "64bd1119",
   "metadata": {},
   "outputs": [
    {
     "data": {
      "text/html": [
       "<div>\n",
       "<style scoped>\n",
       "    .dataframe tbody tr th:only-of-type {\n",
       "        vertical-align: middle;\n",
       "    }\n",
       "\n",
       "    .dataframe tbody tr th {\n",
       "        vertical-align: top;\n",
       "    }\n",
       "\n",
       "    .dataframe thead th {\n",
       "        text-align: right;\n",
       "    }\n",
       "</style>\n",
       "<table border=\"1\" class=\"dataframe\">\n",
       "  <thead>\n",
       "    <tr style=\"text-align: right;\">\n",
       "      <th></th>\n",
       "      <th>movies</th>\n",
       "      <th>genre</th>\n",
       "      <th>rating</th>\n",
       "      <th>one_line</th>\n",
       "      <th>stars</th>\n",
       "      <th>votes</th>\n",
       "      <th>runtime</th>\n",
       "      <th>gross</th>\n",
       "      <th>start_year</th>\n",
       "      <th>end_year</th>\n",
       "      <th>showing_type</th>\n",
       "    </tr>\n",
       "  </thead>\n",
       "  <tbody>\n",
       "    <tr>\n",
       "      <th>0</th>\n",
       "      <td>Blood Red Sky</td>\n",
       "      <td>Action, Horror, Thriller</td>\n",
       "      <td>6.1</td>\n",
       "      <td>A woman with a mysterious illness is forced in...</td>\n",
       "      <td>Director:Peter Thorwarth|     Stars:Peri Baume...</td>\n",
       "      <td>21062</td>\n",
       "      <td>121</td>\n",
       "      <td>0</td>\n",
       "      <td>2021</td>\n",
       "      <td>2021</td>\n",
       "      <td>-</td>\n",
       "    </tr>\n",
       "    <tr>\n",
       "      <th>1</th>\n",
       "      <td>Masters of the Universe: Revelation</td>\n",
       "      <td>Animation, Action, Adventure</td>\n",
       "      <td>5.0</td>\n",
       "      <td>The war for Eternia begins again in what may b...</td>\n",
       "      <td>Stars:Chris Wood, Sarah Michelle Gellar, Lena ...</td>\n",
       "      <td>17870</td>\n",
       "      <td>25</td>\n",
       "      <td>0</td>\n",
       "      <td>2021</td>\n",
       "      <td>-</td>\n",
       "      <td>-</td>\n",
       "    </tr>\n",
       "    <tr>\n",
       "      <th>2</th>\n",
       "      <td>The Walking Dead</td>\n",
       "      <td>Drama, Horror, Thriller</td>\n",
       "      <td>8.2</td>\n",
       "      <td>Sheriff Deputy Rick Grimes wakes up from a com...</td>\n",
       "      <td>Stars:Andrew Lincoln, Norman Reedus, Melissa M...</td>\n",
       "      <td>885805</td>\n",
       "      <td>44</td>\n",
       "      <td>0</td>\n",
       "      <td>2010</td>\n",
       "      <td>2022</td>\n",
       "      <td>-</td>\n",
       "    </tr>\n",
       "    <tr>\n",
       "      <th>3</th>\n",
       "      <td>Rick and Morty</td>\n",
       "      <td>Animation, Adventure, Comedy</td>\n",
       "      <td>9.2</td>\n",
       "      <td>An animated series that follows the exploits o...</td>\n",
       "      <td>Stars:Justin Roiland, Chris Parnell, Spencer G...</td>\n",
       "      <td>414849</td>\n",
       "      <td>23</td>\n",
       "      <td>0</td>\n",
       "      <td>2013</td>\n",
       "      <td>-</td>\n",
       "      <td>-</td>\n",
       "    </tr>\n",
       "    <tr>\n",
       "      <th>4</th>\n",
       "      <td>Army of Thieves</td>\n",
       "      <td>Action, Crime, Horror</td>\n",
       "      <td>0.0</td>\n",
       "      <td>A prequel, set before the events of Army of th...</td>\n",
       "      <td>Director:Matthias Schweighöfer|     Stars:Matt...</td>\n",
       "      <td>0</td>\n",
       "      <td>0</td>\n",
       "      <td>0</td>\n",
       "      <td>2021</td>\n",
       "      <td>2021</td>\n",
       "      <td>-</td>\n",
       "    </tr>\n",
       "  </tbody>\n",
       "</table>\n",
       "</div>"
      ],
      "text/plain": [
       "                                movies                         genre  rating  \\\n",
       "0                        Blood Red Sky      Action, Horror, Thriller     6.1   \n",
       "1  Masters of the Universe: Revelation  Animation, Action, Adventure     5.0   \n",
       "2                     The Walking Dead       Drama, Horror, Thriller     8.2   \n",
       "3                       Rick and Morty  Animation, Adventure, Comedy     9.2   \n",
       "4                      Army of Thieves         Action, Crime, Horror     0.0   \n",
       "\n",
       "                                            one_line  \\\n",
       "0  A woman with a mysterious illness is forced in...   \n",
       "1  The war for Eternia begins again in what may b...   \n",
       "2  Sheriff Deputy Rick Grimes wakes up from a com...   \n",
       "3  An animated series that follows the exploits o...   \n",
       "4  A prequel, set before the events of Army of th...   \n",
       "\n",
       "                                               stars   votes  runtime  gross  \\\n",
       "0  Director:Peter Thorwarth|     Stars:Peri Baume...   21062      121      0   \n",
       "1  Stars:Chris Wood, Sarah Michelle Gellar, Lena ...   17870       25      0   \n",
       "2  Stars:Andrew Lincoln, Norman Reedus, Melissa M...  885805       44      0   \n",
       "3  Stars:Justin Roiland, Chris Parnell, Spencer G...  414849       23      0   \n",
       "4  Director:Matthias Schweighöfer|     Stars:Matt...       0        0      0   \n",
       "\n",
       "  start_year end_year showing_type  \n",
       "0       2021     2021            -  \n",
       "1       2021        -            -  \n",
       "2       2010     2022            -  \n",
       "3       2013        -            -  \n",
       "4       2021     2021            -  "
      ]
     },
     "execution_count": 35,
     "metadata": {},
     "output_type": "execute_result"
    }
   ],
   "source": [
    "datah.head()"
   ]
  },
  {
   "cell_type": "code",
   "execution_count": 36,
   "id": "9978ca93",
   "metadata": {},
   "outputs": [],
   "source": [
    "# Resetting and dropping the previous index column\n",
    "datah.reset_index(inplace=True)\n",
    "del datah['index']"
   ]
  },
  {
   "cell_type": "code",
   "execution_count": 37,
   "id": "62332e35",
   "metadata": {},
   "outputs": [
    {
     "data": {
      "text/html": [
       "<div>\n",
       "<style scoped>\n",
       "    .dataframe tbody tr th:only-of-type {\n",
       "        vertical-align: middle;\n",
       "    }\n",
       "\n",
       "    .dataframe tbody tr th {\n",
       "        vertical-align: top;\n",
       "    }\n",
       "\n",
       "    .dataframe thead th {\n",
       "        text-align: right;\n",
       "    }\n",
       "</style>\n",
       "<table border=\"1\" class=\"dataframe\">\n",
       "  <thead>\n",
       "    <tr style=\"text-align: right;\">\n",
       "      <th></th>\n",
       "      <th>movies</th>\n",
       "      <th>genre</th>\n",
       "      <th>rating</th>\n",
       "      <th>one_line</th>\n",
       "      <th>stars</th>\n",
       "      <th>votes</th>\n",
       "      <th>runtime</th>\n",
       "      <th>gross</th>\n",
       "      <th>start_year</th>\n",
       "      <th>end_year</th>\n",
       "      <th>showing_type</th>\n",
       "    </tr>\n",
       "  </thead>\n",
       "  <tbody>\n",
       "    <tr>\n",
       "      <th>0</th>\n",
       "      <td>Blood Red Sky</td>\n",
       "      <td>Action, Horror, Thriller</td>\n",
       "      <td>6.1</td>\n",
       "      <td>A woman with a mysterious illness is forced in...</td>\n",
       "      <td>Director:Peter Thorwarth|     Stars:Peri Baume...</td>\n",
       "      <td>21062</td>\n",
       "      <td>121</td>\n",
       "      <td>0</td>\n",
       "      <td>2021</td>\n",
       "      <td>2021</td>\n",
       "      <td>-</td>\n",
       "    </tr>\n",
       "    <tr>\n",
       "      <th>1</th>\n",
       "      <td>Masters of the Universe: Revelation</td>\n",
       "      <td>Animation, Action, Adventure</td>\n",
       "      <td>5.0</td>\n",
       "      <td>The war for Eternia begins again in what may b...</td>\n",
       "      <td>Stars:Chris Wood, Sarah Michelle Gellar, Lena ...</td>\n",
       "      <td>17870</td>\n",
       "      <td>25</td>\n",
       "      <td>0</td>\n",
       "      <td>2021</td>\n",
       "      <td>-</td>\n",
       "      <td>-</td>\n",
       "    </tr>\n",
       "    <tr>\n",
       "      <th>2</th>\n",
       "      <td>The Walking Dead</td>\n",
       "      <td>Drama, Horror, Thriller</td>\n",
       "      <td>8.2</td>\n",
       "      <td>Sheriff Deputy Rick Grimes wakes up from a com...</td>\n",
       "      <td>Stars:Andrew Lincoln, Norman Reedus, Melissa M...</td>\n",
       "      <td>885805</td>\n",
       "      <td>44</td>\n",
       "      <td>0</td>\n",
       "      <td>2010</td>\n",
       "      <td>2022</td>\n",
       "      <td>-</td>\n",
       "    </tr>\n",
       "    <tr>\n",
       "      <th>3</th>\n",
       "      <td>Rick and Morty</td>\n",
       "      <td>Animation, Adventure, Comedy</td>\n",
       "      <td>9.2</td>\n",
       "      <td>An animated series that follows the exploits o...</td>\n",
       "      <td>Stars:Justin Roiland, Chris Parnell, Spencer G...</td>\n",
       "      <td>414849</td>\n",
       "      <td>23</td>\n",
       "      <td>0</td>\n",
       "      <td>2013</td>\n",
       "      <td>-</td>\n",
       "      <td>-</td>\n",
       "    </tr>\n",
       "    <tr>\n",
       "      <th>4</th>\n",
       "      <td>Army of Thieves</td>\n",
       "      <td>Action, Crime, Horror</td>\n",
       "      <td>0.0</td>\n",
       "      <td>A prequel, set before the events of Army of th...</td>\n",
       "      <td>Director:Matthias Schweighöfer|     Stars:Matt...</td>\n",
       "      <td>0</td>\n",
       "      <td>0</td>\n",
       "      <td>0</td>\n",
       "      <td>2021</td>\n",
       "      <td>2021</td>\n",
       "      <td>-</td>\n",
       "    </tr>\n",
       "  </tbody>\n",
       "</table>\n",
       "</div>"
      ],
      "text/plain": [
       "                                movies                         genre  rating  \\\n",
       "0                        Blood Red Sky      Action, Horror, Thriller     6.1   \n",
       "1  Masters of the Universe: Revelation  Animation, Action, Adventure     5.0   \n",
       "2                     The Walking Dead       Drama, Horror, Thriller     8.2   \n",
       "3                       Rick and Morty  Animation, Adventure, Comedy     9.2   \n",
       "4                      Army of Thieves         Action, Crime, Horror     0.0   \n",
       "\n",
       "                                            one_line  \\\n",
       "0  A woman with a mysterious illness is forced in...   \n",
       "1  The war for Eternia begins again in what may b...   \n",
       "2  Sheriff Deputy Rick Grimes wakes up from a com...   \n",
       "3  An animated series that follows the exploits o...   \n",
       "4  A prequel, set before the events of Army of th...   \n",
       "\n",
       "                                               stars   votes  runtime  gross  \\\n",
       "0  Director:Peter Thorwarth|     Stars:Peri Baume...   21062      121      0   \n",
       "1  Stars:Chris Wood, Sarah Michelle Gellar, Lena ...   17870       25      0   \n",
       "2  Stars:Andrew Lincoln, Norman Reedus, Melissa M...  885805       44      0   \n",
       "3  Stars:Justin Roiland, Chris Parnell, Spencer G...  414849       23      0   \n",
       "4  Director:Matthias Schweighöfer|     Stars:Matt...       0        0      0   \n",
       "\n",
       "  start_year end_year showing_type  \n",
       "0       2021     2021            -  \n",
       "1       2021        -            -  \n",
       "2       2010     2022            -  \n",
       "3       2013        -            -  \n",
       "4       2021     2021            -  "
      ]
     },
     "execution_count": 37,
     "metadata": {},
     "output_type": "execute_result"
    }
   ],
   "source": [
    "datah.head()"
   ]
  },
  {
   "cell_type": "markdown",
   "id": "86b258f0",
   "metadata": {},
   "source": [
    "### Rearranging the DataFrame Columns\n",
    "<hr>"
   ]
  },
  {
   "cell_type": "code",
   "execution_count": 38,
   "id": "b074eced",
   "metadata": {},
   "outputs": [],
   "source": [
    "datah = datah[['movies', 'start_year', 'end_year', 'showing_type', 'genre','rating', 'one_line', 'stars', 'runtime','gross', 'votes']]"
   ]
  },
  {
   "cell_type": "code",
   "execution_count": 39,
   "id": "4439539f",
   "metadata": {},
   "outputs": [
    {
     "data": {
      "text/html": [
       "<div>\n",
       "<style scoped>\n",
       "    .dataframe tbody tr th:only-of-type {\n",
       "        vertical-align: middle;\n",
       "    }\n",
       "\n",
       "    .dataframe tbody tr th {\n",
       "        vertical-align: top;\n",
       "    }\n",
       "\n",
       "    .dataframe thead th {\n",
       "        text-align: right;\n",
       "    }\n",
       "</style>\n",
       "<table border=\"1\" class=\"dataframe\">\n",
       "  <thead>\n",
       "    <tr style=\"text-align: right;\">\n",
       "      <th></th>\n",
       "      <th>movies</th>\n",
       "      <th>start_year</th>\n",
       "      <th>end_year</th>\n",
       "      <th>showing_type</th>\n",
       "      <th>genre</th>\n",
       "      <th>rating</th>\n",
       "      <th>one_line</th>\n",
       "      <th>stars</th>\n",
       "      <th>runtime</th>\n",
       "      <th>gross</th>\n",
       "      <th>votes</th>\n",
       "    </tr>\n",
       "  </thead>\n",
       "  <tbody>\n",
       "    <tr>\n",
       "      <th>0</th>\n",
       "      <td>Blood Red Sky</td>\n",
       "      <td>2021</td>\n",
       "      <td>2021</td>\n",
       "      <td>-</td>\n",
       "      <td>Action, Horror, Thriller</td>\n",
       "      <td>6.1</td>\n",
       "      <td>A woman with a mysterious illness is forced in...</td>\n",
       "      <td>Director:Peter Thorwarth|     Stars:Peri Baume...</td>\n",
       "      <td>121</td>\n",
       "      <td>0</td>\n",
       "      <td>21062</td>\n",
       "    </tr>\n",
       "    <tr>\n",
       "      <th>1</th>\n",
       "      <td>Masters of the Universe: Revelation</td>\n",
       "      <td>2021</td>\n",
       "      <td>-</td>\n",
       "      <td>-</td>\n",
       "      <td>Animation, Action, Adventure</td>\n",
       "      <td>5.0</td>\n",
       "      <td>The war for Eternia begins again in what may b...</td>\n",
       "      <td>Stars:Chris Wood, Sarah Michelle Gellar, Lena ...</td>\n",
       "      <td>25</td>\n",
       "      <td>0</td>\n",
       "      <td>17870</td>\n",
       "    </tr>\n",
       "    <tr>\n",
       "      <th>2</th>\n",
       "      <td>The Walking Dead</td>\n",
       "      <td>2010</td>\n",
       "      <td>2022</td>\n",
       "      <td>-</td>\n",
       "      <td>Drama, Horror, Thriller</td>\n",
       "      <td>8.2</td>\n",
       "      <td>Sheriff Deputy Rick Grimes wakes up from a com...</td>\n",
       "      <td>Stars:Andrew Lincoln, Norman Reedus, Melissa M...</td>\n",
       "      <td>44</td>\n",
       "      <td>0</td>\n",
       "      <td>885805</td>\n",
       "    </tr>\n",
       "    <tr>\n",
       "      <th>3</th>\n",
       "      <td>Rick and Morty</td>\n",
       "      <td>2013</td>\n",
       "      <td>-</td>\n",
       "      <td>-</td>\n",
       "      <td>Animation, Adventure, Comedy</td>\n",
       "      <td>9.2</td>\n",
       "      <td>An animated series that follows the exploits o...</td>\n",
       "      <td>Stars:Justin Roiland, Chris Parnell, Spencer G...</td>\n",
       "      <td>23</td>\n",
       "      <td>0</td>\n",
       "      <td>414849</td>\n",
       "    </tr>\n",
       "    <tr>\n",
       "      <th>4</th>\n",
       "      <td>Army of Thieves</td>\n",
       "      <td>2021</td>\n",
       "      <td>2021</td>\n",
       "      <td>-</td>\n",
       "      <td>Action, Crime, Horror</td>\n",
       "      <td>0.0</td>\n",
       "      <td>A prequel, set before the events of Army of th...</td>\n",
       "      <td>Director:Matthias Schweighöfer|     Stars:Matt...</td>\n",
       "      <td>0</td>\n",
       "      <td>0</td>\n",
       "      <td>0</td>\n",
       "    </tr>\n",
       "    <tr>\n",
       "      <th>...</th>\n",
       "      <td>...</td>\n",
       "      <td>...</td>\n",
       "      <td>...</td>\n",
       "      <td>...</td>\n",
       "      <td>...</td>\n",
       "      <td>...</td>\n",
       "      <td>...</td>\n",
       "      <td>...</td>\n",
       "      <td>...</td>\n",
       "      <td>...</td>\n",
       "      <td>...</td>\n",
       "    </tr>\n",
       "    <tr>\n",
       "      <th>8906</th>\n",
       "      <td>Totenfrau</td>\n",
       "      <td>2022</td>\n",
       "      <td>-</td>\n",
       "      <td>-</td>\n",
       "      <td>Drama, Thriller</td>\n",
       "      <td>0.0</td>\n",
       "      <td>No plot given</td>\n",
       "      <td>Director:Nicolai Rohde|     Stars:Felix Klare,...</td>\n",
       "      <td>0</td>\n",
       "      <td>0</td>\n",
       "      <td>0</td>\n",
       "    </tr>\n",
       "    <tr>\n",
       "      <th>8907</th>\n",
       "      <td>Arcane</td>\n",
       "      <td>2021</td>\n",
       "      <td>-</td>\n",
       "      <td>-</td>\n",
       "      <td>Animation, Action, Adventure</td>\n",
       "      <td>0.0</td>\n",
       "      <td>No plot given</td>\n",
       "      <td></td>\n",
       "      <td>0</td>\n",
       "      <td>0</td>\n",
       "      <td>0</td>\n",
       "    </tr>\n",
       "    <tr>\n",
       "      <th>8908</th>\n",
       "      <td>Heart of Invictus</td>\n",
       "      <td>2022</td>\n",
       "      <td>-</td>\n",
       "      <td>-</td>\n",
       "      <td>Documentary, Sport</td>\n",
       "      <td>0.0</td>\n",
       "      <td>No plot given</td>\n",
       "      <td>Director:Orlando von Einsiedel|     Star:Princ...</td>\n",
       "      <td>0</td>\n",
       "      <td>0</td>\n",
       "      <td>0</td>\n",
       "    </tr>\n",
       "    <tr>\n",
       "      <th>8909</th>\n",
       "      <td>The Imperfects</td>\n",
       "      <td>2021</td>\n",
       "      <td>-</td>\n",
       "      <td>-</td>\n",
       "      <td>Adventure, Drama, Fantasy</td>\n",
       "      <td>0.0</td>\n",
       "      <td>No plot given</td>\n",
       "      <td>Director:Jovanka Vuckovic|     Stars:Morgan Ta...</td>\n",
       "      <td>0</td>\n",
       "      <td>0</td>\n",
       "      <td>0</td>\n",
       "    </tr>\n",
       "    <tr>\n",
       "      <th>8910</th>\n",
       "      <td>The Imperfects</td>\n",
       "      <td>2021</td>\n",
       "      <td>-</td>\n",
       "      <td>-</td>\n",
       "      <td>Adventure, Drama, Fantasy</td>\n",
       "      <td>0.0</td>\n",
       "      <td>No plot given</td>\n",
       "      <td>Director:Jovanka Vuckovic|     Stars:Morgan Ta...</td>\n",
       "      <td>0</td>\n",
       "      <td>0</td>\n",
       "      <td>0</td>\n",
       "    </tr>\n",
       "  </tbody>\n",
       "</table>\n",
       "<p>8911 rows × 11 columns</p>\n",
       "</div>"
      ],
      "text/plain": [
       "                                   movies start_year end_year showing_type  \\\n",
       "0                           Blood Red Sky       2021     2021            -   \n",
       "1     Masters of the Universe: Revelation       2021        -            -   \n",
       "2                        The Walking Dead       2010     2022            -   \n",
       "3                          Rick and Morty       2013        -            -   \n",
       "4                         Army of Thieves       2021     2021            -   \n",
       "...                                   ...        ...      ...          ...   \n",
       "8906                            Totenfrau       2022        -            -   \n",
       "8907                               Arcane       2021        -            -   \n",
       "8908                    Heart of Invictus       2022        -            -   \n",
       "8909                       The Imperfects       2021        -            -   \n",
       "8910                       The Imperfects       2021        -            -   \n",
       "\n",
       "                             genre  rating  \\\n",
       "0         Action, Horror, Thriller     6.1   \n",
       "1     Animation, Action, Adventure     5.0   \n",
       "2          Drama, Horror, Thriller     8.2   \n",
       "3     Animation, Adventure, Comedy     9.2   \n",
       "4            Action, Crime, Horror     0.0   \n",
       "...                            ...     ...   \n",
       "8906               Drama, Thriller     0.0   \n",
       "8907  Animation, Action, Adventure     0.0   \n",
       "8908            Documentary, Sport     0.0   \n",
       "8909     Adventure, Drama, Fantasy     0.0   \n",
       "8910     Adventure, Drama, Fantasy     0.0   \n",
       "\n",
       "                                               one_line  \\\n",
       "0     A woman with a mysterious illness is forced in...   \n",
       "1     The war for Eternia begins again in what may b...   \n",
       "2     Sheriff Deputy Rick Grimes wakes up from a com...   \n",
       "3     An animated series that follows the exploits o...   \n",
       "4     A prequel, set before the events of Army of th...   \n",
       "...                                                 ...   \n",
       "8906                                      No plot given   \n",
       "8907                                      No plot given   \n",
       "8908                                      No plot given   \n",
       "8909                                      No plot given   \n",
       "8910                                      No plot given   \n",
       "\n",
       "                                                  stars  runtime  gross  \\\n",
       "0     Director:Peter Thorwarth|     Stars:Peri Baume...      121      0   \n",
       "1     Stars:Chris Wood, Sarah Michelle Gellar, Lena ...       25      0   \n",
       "2     Stars:Andrew Lincoln, Norman Reedus, Melissa M...       44      0   \n",
       "3     Stars:Justin Roiland, Chris Parnell, Spencer G...       23      0   \n",
       "4     Director:Matthias Schweighöfer|     Stars:Matt...        0      0   \n",
       "...                                                 ...      ...    ...   \n",
       "8906  Director:Nicolai Rohde|     Stars:Felix Klare,...        0      0   \n",
       "8907                                                           0      0   \n",
       "8908  Director:Orlando von Einsiedel|     Star:Princ...        0      0   \n",
       "8909  Director:Jovanka Vuckovic|     Stars:Morgan Ta...        0      0   \n",
       "8910  Director:Jovanka Vuckovic|     Stars:Morgan Ta...        0      0   \n",
       "\n",
       "       votes  \n",
       "0      21062  \n",
       "1      17870  \n",
       "2     885805  \n",
       "3     414849  \n",
       "4          0  \n",
       "...      ...  \n",
       "8906       0  \n",
       "8907       0  \n",
       "8908       0  \n",
       "8909       0  \n",
       "8910       0  \n",
       "\n",
       "[8911 rows x 11 columns]"
      ]
     },
     "execution_count": 39,
     "metadata": {},
     "output_type": "execute_result"
    }
   ],
   "source": [
    "datah"
   ]
  },
  {
   "cell_type": "code",
   "execution_count": 40,
   "id": "ba7f8d75",
   "metadata": {},
   "outputs": [],
   "source": [
    "datah.to_csv(\"cleaned_movies.csv\")"
   ]
  },
  {
   "cell_type": "markdown",
   "id": "41c3a6b2",
   "metadata": {},
   "source": [
    "Notebook created by <b>Oluwaseun Ogundeko</b>"
   ]
  }
 ],
 "metadata": {
  "kernelspec": {
   "display_name": "Python 3 (ipykernel)",
   "language": "python",
   "name": "python3"
  },
  "language_info": {
   "codemirror_mode": {
    "name": "ipython",
    "version": 3
   },
   "file_extension": ".py",
   "mimetype": "text/x-python",
   "name": "python",
   "nbconvert_exporter": "python",
   "pygments_lexer": "ipython3",
   "version": "3.9.12"
  }
 },
 "nbformat": 4,
 "nbformat_minor": 5
}
